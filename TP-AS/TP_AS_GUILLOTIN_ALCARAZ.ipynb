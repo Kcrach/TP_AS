{
 "cells": [
  {
   "cell_type": "code",
   "execution_count": 1,
   "metadata": {},
   "outputs": [],
   "source": [
    "import numpy as np\n",
    "np.set_printoptions(threshold=10000,suppress=True)\n",
    "import pandas as pd\n",
    "import warnings\n",
    "import matplotlib.pyplot as plt\n",
    "warnings.filterwarnings('ignore')"
   ]
  },
  {
   "cell_type": "markdown",
   "metadata": {},
   "source": [
    "## Partie 1"
   ]
  },
  {
   "cell_type": "code",
   "execution_count": 2,
   "metadata": {},
   "outputs": [
    {
     "data": {
      "text/html": [
       "<div>\n",
       "<style scoped>\n",
       "    .dataframe tbody tr th:only-of-type {\n",
       "        vertical-align: middle;\n",
       "    }\n",
       "\n",
       "    .dataframe tbody tr th {\n",
       "        vertical-align: top;\n",
       "    }\n",
       "\n",
       "    .dataframe thead th {\n",
       "        text-align: right;\n",
       "    }\n",
       "</style>\n",
       "<table border=\"1\" class=\"dataframe\">\n",
       "  <thead>\n",
       "    <tr style=\"text-align: right;\">\n",
       "      <th></th>\n",
       "      <th>Seniority</th>\n",
       "      <th>Home</th>\n",
       "      <th>Time</th>\n",
       "      <th>Age</th>\n",
       "      <th>Marital</th>\n",
       "      <th>Records</th>\n",
       "      <th>Job</th>\n",
       "      <th>Expenses</th>\n",
       "      <th>Income</th>\n",
       "      <th>Assets</th>\n",
       "      <th>Debt</th>\n",
       "      <th>Amount</th>\n",
       "      <th>Price</th>\n",
       "      <th>Status</th>\n",
       "    </tr>\n",
       "  </thead>\n",
       "  <tbody>\n",
       "    <tr>\n",
       "      <th>0</th>\n",
       "      <td>9.0</td>\n",
       "      <td>1.0</td>\n",
       "      <td>60.0</td>\n",
       "      <td>30.0</td>\n",
       "      <td>0.0</td>\n",
       "      <td>1.0</td>\n",
       "      <td>1.0</td>\n",
       "      <td>73.0</td>\n",
       "      <td>129.0</td>\n",
       "      <td>0.0</td>\n",
       "      <td>0.0</td>\n",
       "      <td>800.0</td>\n",
       "      <td>846.0</td>\n",
       "      <td>1</td>\n",
       "    </tr>\n",
       "    <tr>\n",
       "      <th>1</th>\n",
       "      <td>17.0</td>\n",
       "      <td>1.0</td>\n",
       "      <td>60.0</td>\n",
       "      <td>58.0</td>\n",
       "      <td>1.0</td>\n",
       "      <td>1.0</td>\n",
       "      <td>0.0</td>\n",
       "      <td>48.0</td>\n",
       "      <td>131.0</td>\n",
       "      <td>0.0</td>\n",
       "      <td>0.0</td>\n",
       "      <td>1000.0</td>\n",
       "      <td>1658.0</td>\n",
       "      <td>1</td>\n",
       "    </tr>\n",
       "    <tr>\n",
       "      <th>2</th>\n",
       "      <td>10.0</td>\n",
       "      <td>0.0</td>\n",
       "      <td>36.0</td>\n",
       "      <td>46.0</td>\n",
       "      <td>0.0</td>\n",
       "      <td>2.0</td>\n",
       "      <td>1.0</td>\n",
       "      <td>90.0</td>\n",
       "      <td>200.0</td>\n",
       "      <td>3000.0</td>\n",
       "      <td>0.0</td>\n",
       "      <td>2000.0</td>\n",
       "      <td>2985.0</td>\n",
       "      <td>0</td>\n",
       "    </tr>\n",
       "  </tbody>\n",
       "</table>\n",
       "</div>"
      ],
      "text/plain": [
       "   Seniority  Home  Time   Age  Marital  Records  Job  Expenses  Income  \\\n",
       "0        9.0   1.0  60.0  30.0      0.0      1.0  1.0      73.0   129.0   \n",
       "1       17.0   1.0  60.0  58.0      1.0      1.0  0.0      48.0   131.0   \n",
       "2       10.0   0.0  36.0  46.0      0.0      2.0  1.0      90.0   200.0   \n",
       "\n",
       "   Assets  Debt  Amount   Price  Status  \n",
       "0     0.0   0.0   800.0   846.0       1  \n",
       "1     0.0   0.0  1000.0  1658.0       1  \n",
       "2  3000.0   0.0  2000.0  2985.0       0  "
      ]
     },
     "execution_count": 2,
     "metadata": {},
     "output_type": "execute_result"
    }
   ],
   "source": [
    "credit = pd.read_csv('./credit_scoring.csv', sep=\";\", header = 0)\n",
    "credit.head(3)"
   ]
  },
  {
   "cell_type": "code",
   "execution_count": 3,
   "metadata": {},
   "outputs": [
    {
     "data": {
      "text/plain": [
       "(4375, 14)"
      ]
     },
     "execution_count": 3,
     "metadata": {},
     "output_type": "execute_result"
    }
   ],
   "source": [
    "credit.shape"
   ]
  },
  {
   "cell_type": "code",
   "execution_count": 4,
   "metadata": {},
   "outputs": [],
   "source": [
    "X = credit.iloc[:, :13].values\n",
    "Y = credit.iloc[:, 13].values"
   ]
  },
  {
   "cell_type": "code",
   "execution_count": 5,
   "metadata": {},
   "outputs": [
    {
     "name": "stdout",
     "output_type": "stream",
     "text": [
      "MP : 27.794285714285714/ BP : 72.20571428571428\n"
     ]
    }
   ],
   "source": [
    "MP = 100*np.sum(Y==0)/len(Y)\n",
    "BP = 100*np.sum(Y==1)/len(Y)\n",
    "\n",
    "print(\"MP : \" + str(MP) + \"/ BP : \" + str(BP))"
   ]
  },
  {
   "cell_type": "markdown",
   "metadata": {},
   "source": [
    "## Apprentissage"
   ]
  },
  {
   "cell_type": "code",
   "execution_count": 17,
   "metadata": {},
   "outputs": [],
   "source": [
    "from sklearn.model_selection import train_test_split\n",
    "from sklearn.tree import DecisionTreeClassifier\n",
    "from sklearn.neighbors import KNeighborsClassifier\n",
    "from sklearn.metrics import confusion_matrix, accuracy_score, precision_score\n",
    "from sklearn.preprocessing import StandardScaler, MinMaxScaler\n",
    "from sklearn.decomposition import PCA\n",
    "from sklearn.neural_network import MLPClassifier"
   ]
  },
  {
   "cell_type": "code",
   "execution_count": 7,
   "metadata": {},
   "outputs": [],
   "source": [
    "XTrain, XTest, YTrain, YTest = train_test_split(X, Y, test_size = 0.5, random_state = 1)"
   ]
  },
  {
   "cell_type": "code",
   "execution_count": 8,
   "metadata": {},
   "outputs": [],
   "source": [
    "def classifier(XTrain, XTest, YTrain, YTest):\n",
    "    DT = DecisionTreeClassifier(criterion='gini', random_state = 1)\n",
    "    DT.fit(XTrain, YTrain)\n",
    "    YDT = DT.predict(XTest)\n",
    "    \n",
    "    print(\"Decision Tree :\")\n",
    "    print(confusion_matrix(YTest, YDT))\n",
    "    print(\"Accuracy : \" + str(np.round(100 * accuracy_score(YTest, YDT), 2)) + \"% / Precision : \" + str(np.round(100 * precision_score(YTest, YDT), 2)) + \"%\")\n",
    "    \n",
    "    KNN = KNeighborsClassifier(n_neighbors = 5)\n",
    "    KNN.fit(XTrain, YTrain)\n",
    "    YKNN = KNN.predict(XTest)\n",
    "    \n",
    "    print(\"KNN :\")\n",
    "    print(confusion_matrix(YTest, YKNN))\n",
    "    print(\"Accuracy : \" + str(np.round(100 * accuracy_score(YTest, YKNN),2)) + \"% / Precision : \" + str(np.round(100 * precision_score(YTest, YKNN), 2)) + \"%\")\n",
    "    \n",
    "    MLP = MLPClassifier(random_state = 1, hidden_layer_sizes=(40, 20))\n",
    "    MLP.fit(XTrain, YTrain)\n",
    "    YMLP = MLP.predict(XTest)\n",
    "    \n",
    "    print(\"MLP :\")\n",
    "    print(confusion_matrix(YTest, YMLP))\n",
    "    print(\"Accuracy : \" + str(np.round(100 * accuracy_score(YTest, YMLP), 2)) + \"% / Precision : \" + str(np.round(100 * precision_score(YTest, YMLP), 2)) + \"%\")"
   ]
  },
  {
   "cell_type": "code",
   "execution_count": 9,
   "metadata": {},
   "outputs": [
    {
     "name": "stdout",
     "output_type": "stream",
     "text": [
      "Decision Tree :\n",
      "[[ 325  279]\n",
      " [ 318 1266]]\n",
      "Accuracy : 72.71% / Precision : 81.94%\n",
      "KNN :\n",
      "[[ 189  415]\n",
      " [ 187 1397]]\n",
      "Accuracy : 72.49% / Precision : 77.1%\n",
      "MLP :\n",
      "[[ 167  437]\n",
      " [ 222 1362]]\n",
      "Accuracy : 69.88% / Precision : 75.71%\n"
     ]
    }
   ],
   "source": [
    "classifier(XTrain, XTest, YTrain, YTest)"
   ]
  },
  {
   "cell_type": "markdown",
   "metadata": {},
   "source": [
    "## Normalisation des données"
   ]
  },
  {
   "cell_type": "code",
   "execution_count": 10,
   "metadata": {},
   "outputs": [
    {
     "name": "stdout",
     "output_type": "stream",
     "text": [
      "Decision Tree :\n",
      "[[ 322  282]\n",
      " [ 315 1269]]\n",
      "Accuracy : 72.71% / Precision : 81.82%\n",
      "KNN :\n",
      "[[ 286  318]\n",
      " [ 223 1361]]\n",
      "Accuracy : 75.27% / Precision : 81.06%\n",
      "MLP :\n",
      "[[ 342  262]\n",
      " [ 227 1357]]\n",
      "Accuracy : 77.65% / Precision : 83.82%\n"
     ]
    }
   ],
   "source": [
    "scaler = StandardScaler()\n",
    "scaler.fit(XTrain)\n",
    "XTrainNorm = scaler.transform(XTrain)\n",
    "XTestNorm = scaler.transform(XTest)\n",
    "classifier(XTrainNorm, XTestNorm, YTrain, YTest)"
   ]
  },
  {
   "cell_type": "code",
   "execution_count": 11,
   "metadata": {},
   "outputs": [
    {
     "name": "stdout",
     "output_type": "stream",
     "text": [
      "Decision Tree :\n",
      "[[ 325  279]\n",
      " [ 315 1269]]\n",
      "Accuracy : 72.85% / Precision : 81.98%\n",
      "KNN :\n",
      "[[ 283  321]\n",
      " [ 236 1348]]\n",
      "Accuracy : 74.54% / Precision : 80.77%\n",
      "MLP :\n",
      "[[ 321  283]\n",
      " [ 179 1405]]\n",
      "Accuracy : 78.88% / Precision : 83.23%\n"
     ]
    }
   ],
   "source": [
    "scaler = MinMaxScaler()\n",
    "scaler.fit(XTrain)\n",
    "XTrainNormMinMax = scaler.transform(XTrain)\n",
    "XTestNormMinMax = scaler.transform(XTest)\n",
    "classifier(XTrainNormMinMax, XTestNormMinMax, YTrain, YTest)"
   ]
  },
  {
   "cell_type": "markdown",
   "metadata": {},
   "source": [
    "## ACP"
   ]
  },
  {
   "cell_type": "code",
   "execution_count": 18,
   "metadata": {},
   "outputs": [
    {
     "name": "stdout",
     "output_type": "stream",
     "text": [
      "Decision Tree :\n",
      "[[ 351  253]\n",
      " [ 324 1260]]\n",
      "Accuracy : 73.63% / Precision : 83.28%\n",
      "KNN :\n",
      "[[ 283  321]\n",
      " [ 212 1372]]\n",
      "Accuracy : 75.64% / Precision : 81.04%\n",
      "MLP :\n",
      "[[ 318  286]\n",
      " [ 217 1367]]\n",
      "Accuracy : 77.01% / Precision : 82.7%\n"
     ]
    }
   ],
   "source": [
    "pca = PCA(n_components = 3)\n",
    "pca.fit(XTrainNorm)\n",
    "XTrainPCA = pca.transform(XTrainNorm)\n",
    "XTrainPCA = np.concatenate((XTrainNorm, XTrainPCA), axis = 1)\n",
    "XTestPCA = pca.transform(XTestNorm)\n",
    "XTestPCA = np.concatenate((XTestNorm, XTestPCA), axis = 1)\n",
    "classifier(XTrainPCA, XTestPCA, YTrain, YTest)\n"
   ]
  },
  {
   "cell_type": "code",
   "execution_count": 15,
   "metadata": {},
   "outputs": [
    {
     "data": {
      "text/plain": [
       "(2187, 16)"
      ]
     },
     "execution_count": 15,
     "metadata": {},
     "output_type": "execute_result"
    }
   ],
   "source": [
    "XTrainPCA.shape"
   ]
  },
  {
   "cell_type": "code",
   "execution_count": null,
   "metadata": {},
   "outputs": [],
   "source": []
  }
 ],
 "metadata": {
  "kernelspec": {
   "display_name": "Python 3",
   "language": "python",
   "name": "python3"
  },
  "language_info": {
   "codemirror_mode": {
    "name": "ipython",
    "version": 3
   },
   "file_extension": ".py",
   "mimetype": "text/x-python",
   "name": "python",
   "nbconvert_exporter": "python",
   "pygments_lexer": "ipython3",
   "version": "3.8.0"
  }
 },
 "nbformat": 4,
 "nbformat_minor": 4
}
